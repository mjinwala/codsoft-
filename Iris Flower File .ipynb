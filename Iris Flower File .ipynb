{
 "cells": [
  {
   "cell_type": "code",
   "execution_count": null,
   "id": "355fb306",
   "metadata": {},
   "outputs": [],
   "source": [
    "import pandas as pd\n",
    "import numpy as np\n",
    "import seaborn as sns\n",
    "import matplotlib.pyplot as plt\n",
    "from sklearn.preprocessing import LabelEncoder \n",
    "from sklearn.model_selection import train_test_split\n",
    "from sklearn.linear_model import LogisticRegression\n",
    "from sklearn.neighbors import KNeighborsClassifier\n",
    "from sklearn.tree import DecisionTreeClassifier"
   ]
  },
  {
   "cell_type": "code",
   "execution_count": null,
   "id": "9d4d7aa8",
   "metadata": {},
   "outputs": [],
   "source": [
    "iris_flower_file=pd.read_csv(\"iris flower file.csv\")"
   ]
  },
  {
   "cell_type": "code",
   "execution_count": null,
   "id": "772b69f1",
   "metadata": {},
   "outputs": [],
   "source": [
    "iris_flower_file.head(16)"
   ]
  },
  {
   "cell_type": "code",
   "execution_count": null,
   "id": "ebce064e",
   "metadata": {},
   "outputs": [],
   "source": [
    "iris_flower_file.shape"
   ]
  },
  {
   "cell_type": "code",
   "execution_count": null,
   "id": "d5e4fb45",
   "metadata": {},
   "outputs": [],
   "source": [
    "iris_flower_file.info()"
   ]
  },
  {
   "cell_type": "code",
   "execution_count": null,
   "id": "e7e408b1",
   "metadata": {},
   "outputs": [],
   "source": [
    "iris_flower_file.describe()"
   ]
  },
  {
   "cell_type": "code",
   "execution_count": null,
   "id": "36bf82c9",
   "metadata": {},
   "outputs": [],
   "source": [
    "iris_flower_file.isnull().sum()"
   ]
  },
  {
   "cell_type": "code",
   "execution_count": null,
   "id": "f5e75272",
   "metadata": {},
   "outputs": [],
   "source": [
    "iris_flower_file.describe()"
   ]
  },
  {
   "cell_type": "code",
   "execution_count": null,
   "id": "2c7059b6",
   "metadata": {},
   "outputs": [],
   "source": [
    "iris_flower_file['sepal_length'].hist()"
   ]
  },
  {
   "cell_type": "code",
   "execution_count": null,
   "id": "1ec063ed",
   "metadata": {},
   "outputs": [],
   "source": [
    "iris_flower_file['sepal_width'].hist()"
   ]
  },
  {
   "cell_type": "code",
   "execution_count": null,
   "id": "7a717f29",
   "metadata": {},
   "outputs": [],
   "source": [
    "iris_flower_file['petal_length'].hist()"
   ]
  },
  {
   "cell_type": "code",
   "execution_count": null,
   "id": "ffde47c0",
   "metadata": {},
   "outputs": [],
   "source": [
    "iris_flower_file['petal_width'].hist()"
   ]
  },
  {
   "cell_type": "code",
   "execution_count": null,
   "id": "f40927e8",
   "metadata": {},
   "outputs": [],
   "source": [
    "colors=['red','Black','teal']"
   ]
  },
  {
   "cell_type": "code",
   "execution_count": null,
   "id": "2def0f3c",
   "metadata": {},
   "outputs": [],
   "source": [
    "species=['Iris-setosa', 'Iris-versicolor', 'Iris-virginica']"
   ]
  },
  {
   "cell_type": "code",
   "execution_count": null,
   "id": "e2e4c69e",
   "metadata": {},
   "outputs": [],
   "source": [
    "for i in range(3):\n",
    "    x=iris_flower_file[iris_flower_file['species']==species[i]]\n",
    "    plt.scatter(x['sepal_length'],x['sepal_width'],c=colors[i],label=species[i])\n",
    "plt.xlabel(\"Sepal Length\")\n",
    "plt.ylabel(\"Sepal Width\")\n",
    "plt.legend()"
   ]
  },
  {
   "cell_type": "code",
   "execution_count": null,
   "id": "708cc112",
   "metadata": {},
   "outputs": [],
   "source": [
    "for i in range(3):\n",
    "    x=iris_flower_file[iris_flower_file['species']==species[i]]\n",
    "    plt.scatter(x['petal_length'],x['petal_width'],c=colors[i],label=species[i])\n",
    "plt.xlabel(\"Petal Length\")\n",
    "plt.ylabel(\"Petal Width\")\n",
    "plt.legend()"
   ]
  },
  {
   "cell_type": "code",
   "execution_count": null,
   "id": "21eddd92",
   "metadata": {},
   "outputs": [],
   "source": [
    "for i in range(3):\n",
    "    x=iris_flower_file[iris_flower_file['species']==species[i]]\n",
    "    plt.scatter(x['sepal_length'],x['petal_length'],c=colors[i],label=species[i])\n",
    "plt.xlabel(\"Sepal Length\")\n",
    "plt.ylabel(\"Petal Length\")\n",
    "plt.legend()"
   ]
  },
  {
   "cell_type": "code",
   "execution_count": null,
   "id": "85c0a2c0",
   "metadata": {},
   "outputs": [],
   "source": [
    "for i in range(3):\n",
    "    x=iris_flower_file[iris_flower_file['species']==species[i]]\n",
    "    plt.scatter(x['sepal_width'],x['petal_width'],c=colors[i],label=species[i])\n",
    "plt.xlabel(\"Sepal Width\")\n",
    "plt.ylabel(\"Petal Width\")\n",
    "plt.legend()"
   ]
  },
  {
   "cell_type": "code",
   "execution_count": null,
   "id": "a6570818",
   "metadata": {},
   "outputs": [],
   "source": [
    "numeric_columns=iris_flower_file.drop(columns='species')\n",
    "corr=numeric_columns.corr()\n",
    "fig,axis=plt.subplots(figsize=(5,5))\n",
    "sns.heatmap(corr,annot=True,ax=axis,cmap='coolwarm')"
   ]
  },
  {
   "cell_type": "code",
   "execution_count": null,
   "id": "a1393b19",
   "metadata": {},
   "outputs": [],
   "source": [
    "le=LabelEncoder()"
   ]
  },
  {
   "cell_type": "code",
   "execution_count": null,
   "id": "2988078e",
   "metadata": {},
   "outputs": [],
   "source": [
    "iris_flower_file['species']=le.fit_transform(iris_flower_file['species'])"
   ]
  },
  {
   "cell_type": "code",
   "execution_count": null,
   "id": "ccbcdc34",
   "metadata": {},
   "outputs": [],
   "source": [
    "iris_flower_file.head(16)"
   ]
  },
  {
   "cell_type": "code",
   "execution_count": null,
   "id": "c1ed382f",
   "metadata": {},
   "outputs": [],
   "source": [
    "x=iris_flower_file.drop(columns='species')"
   ]
  },
  {
   "cell_type": "code",
   "execution_count": null,
   "id": "f22c7a63",
   "metadata": {},
   "outputs": [],
   "source": [
    "y=iris_flower_file['species']"
   ]
  },
  {
   "cell_type": "code",
   "execution_count": null,
   "id": "f1b6bb81",
   "metadata": {},
   "outputs": [],
   "source": [
    "x_train,x_test,y_train,y_test=train_test_split(x,y,test_size=0.3)"
   ]
  },
  {
   "cell_type": "code",
   "execution_count": null,
   "id": "b0564b1e",
   "metadata": {},
   "outputs": [],
   "source": [
    "LR=LogisticRegression()"
   ]
  },
  {
   "cell_type": "code",
   "execution_count": null,
   "id": "3d4ee362",
   "metadata": {},
   "outputs": [],
   "source": [
    "LR.fit(x_train,y_train)"
   ]
  },
  {
   "cell_type": "code",
   "execution_count": null,
   "id": "0c9cd257",
   "metadata": {},
   "outputs": [],
   "source": [
    "KNN=KNeighborsClassifier()"
   ]
  },
  {
   "cell_type": "code",
   "execution_count": null,
   "id": "e4c3de56",
   "metadata": {},
   "outputs": [],
   "source": [
    "KNN.fit(x_train,y_train)"
   ]
  },
  {
   "cell_type": "code",
   "execution_count": null,
   "id": "f1aca8c0",
   "metadata": {},
   "outputs": [],
   "source": [
    "DT=DecisionTreeClassifier()"
   ]
  },
  {
   "cell_type": "code",
   "execution_count": null,
   "id": "9c516041",
   "metadata": {},
   "outputs": [],
   "source": [
    "DT.fit(x_train,y_train)"
   ]
  },
  {
   "cell_type": "code",
   "execution_count": null,
   "id": "5ef82907",
   "metadata": {},
   "outputs": [],
   "source": [
    "LR_accuracy=LR.score(x_test,y_test)*100\n",
    "KNN_accuracy=KNN.score(x_test,y_test)*100\n",
    "DT_accuracy=DT.score(x_test,y_test)*100"
   ]
  },
  {
   "cell_type": "code",
   "execution_count": null,
   "id": "5c591530",
   "metadata": {},
   "outputs": [],
   "source": [
    "print(f\"Accuracy by using Logistic Regression: {LR_accuracy}%\")"
   ]
  },
  {
   "cell_type": "code",
   "execution_count": null,
   "id": "e68f31ce",
   "metadata": {},
   "outputs": [],
   "source": [
    "print(f\"Accuracy by using K Nearest Neighbors Algorithm: {KNN_accuracy}%\")"
   ]
  },
  {
   "cell_type": "code",
   "execution_count": null,
   "id": "61a55162",
   "metadata": {},
   "outputs": [],
   "source": [
    "print(f\"Accuracy by using Decision Tree Classifier: {DT_accuracy}%\")"
   ]
  }
 ],
 "metadata": {
  "kernelspec": {
   "display_name": "Python 3 (ipykernel)",
   "language": "python",
   "name": "python3"
  },
  "language_info": {
   "codemirror_mode": {
    "name": "ipython",
    "version": 3
   },
   "file_extension": ".py",
   "mimetype": "text/x-python",
   "name": "python",
   "nbconvert_exporter": "python",
   "pygments_lexer": "ipython3",
   "version": "3.12.3"
  }
 },
 "nbformat": 4,
 "nbformat_minor": 5
}
